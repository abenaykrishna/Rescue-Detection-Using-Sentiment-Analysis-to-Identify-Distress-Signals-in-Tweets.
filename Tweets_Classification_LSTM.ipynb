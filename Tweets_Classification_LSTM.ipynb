{
  "nbformat": 4,
  "nbformat_minor": 0,
  "metadata": {
    "colab": {
      "provenance": []
    },
    "kernelspec": {
      "name": "python3",
      "display_name": "Python 3"
    },
    "language_info": {
      "name": "python"
    }
  },
  "cells": [
    {
      "cell_type": "code",
      "execution_count": 1,
      "metadata": {
        "colab": {
          "base_uri": "https://localhost:8080/",
          "height": 0
        },
        "id": "BfRYa5JGSlGb",
        "outputId": "07c9c0b7-4f6e-45ec-ea01-09be9fb6ca96"
      },
      "outputs": [
        {
          "output_type": "stream",
          "name": "stderr",
          "text": [
            "[nltk_data] Downloading package stopwords to /root/nltk_data...\n",
            "[nltk_data]   Unzipping corpora/stopwords.zip.\n"
          ]
        }
      ],
      "source": [
        "import pandas as pd\n",
        "import numpy as np\n",
        "import matplotlib.pyplot as plt\n",
        "import seaborn as sns\n",
        "import re\n",
        "\n",
        "import nltk \n",
        "nltk.download('stopwords')\n",
        "from nltk.corpus import stopwords\n",
        "from nltk.tokenize import word_tokenize \n",
        "from nltk.stem import SnowballStemmer\n",
        "\n",
        "from sklearn import model_selection, metrics, preprocessing, ensemble, model_selection, metrics\n",
        "from sklearn.feature_extraction.text import CountVectorizer, TfidfVectorizer\n",
        "\n",
        "\n",
        "import tensorflow as tf\n",
        "from tensorflow.keras.models import Model\n",
        "from tensorflow.keras.preprocessing.text import Tokenizer\n",
        "from tensorflow.keras.preprocessing.sequence import pad_sequences\n",
        "from tensorflow.keras.layers import Conv1D, Bidirectional, LSTM, Dense, Dropout, Input, SpatialDropout1D\n",
        "from tensorflow.keras.callbacks import ModelCheckpoint, ReduceLROnPlateau\n",
        "from tensorflow.keras.optimizers import Adam"
      ]
    },
    {
      "cell_type": "code",
      "source": [
        "# Rreading train dataset\n",
        "file_path = \"/content/train (1).csv\"\n",
        "raw_data = pd.read_csv(file_path)\n",
        "print(\"Data points count: \", raw_data['id'].count())\n",
        "raw_data.head()"
      ],
      "metadata": {
        "colab": {
          "base_uri": "https://localhost:8080/",
          "height": 223
        },
        "id": "pWp9vJ-HS8kh",
        "outputId": "d9c1922c-1401-43d8-c104-c3b985e5c0f0"
      },
      "execution_count": 4,
      "outputs": [
        {
          "output_type": "stream",
          "name": "stdout",
          "text": [
            "Data points count:  7613\n"
          ]
        },
        {
          "output_type": "execute_result",
          "data": {
            "text/plain": [
              "   id keyword location                                               text  \\\n",
              "0   1     NaN      NaN  Our Deeds are the Reason of this #earthquake M...   \n",
              "1   4     NaN      NaN             Forest fire near La Ronge Sask. Canada   \n",
              "2   5     NaN      NaN  All residents asked to 'shelter in place' are ...   \n",
              "3   6     NaN      NaN  13,000 people receive #wildfires evacuation or...   \n",
              "4   7     NaN      NaN  Just got sent this photo from Ruby #Alaska as ...   \n",
              "\n",
              "   target  \n",
              "0       1  \n",
              "1       1  \n",
              "2       1  \n",
              "3       1  \n",
              "4       1  "
            ],
            "text/html": [
              "\n",
              "  <div id=\"df-e7362b71-5e52-4ec5-b20b-efc02117f276\">\n",
              "    <div class=\"colab-df-container\">\n",
              "      <div>\n",
              "<style scoped>\n",
              "    .dataframe tbody tr th:only-of-type {\n",
              "        vertical-align: middle;\n",
              "    }\n",
              "\n",
              "    .dataframe tbody tr th {\n",
              "        vertical-align: top;\n",
              "    }\n",
              "\n",
              "    .dataframe thead th {\n",
              "        text-align: right;\n",
              "    }\n",
              "</style>\n",
              "<table border=\"1\" class=\"dataframe\">\n",
              "  <thead>\n",
              "    <tr style=\"text-align: right;\">\n",
              "      <th></th>\n",
              "      <th>id</th>\n",
              "      <th>keyword</th>\n",
              "      <th>location</th>\n",
              "      <th>text</th>\n",
              "      <th>target</th>\n",
              "    </tr>\n",
              "  </thead>\n",
              "  <tbody>\n",
              "    <tr>\n",
              "      <th>0</th>\n",
              "      <td>1</td>\n",
              "      <td>NaN</td>\n",
              "      <td>NaN</td>\n",
              "      <td>Our Deeds are the Reason of this #earthquake M...</td>\n",
              "      <td>1</td>\n",
              "    </tr>\n",
              "    <tr>\n",
              "      <th>1</th>\n",
              "      <td>4</td>\n",
              "      <td>NaN</td>\n",
              "      <td>NaN</td>\n",
              "      <td>Forest fire near La Ronge Sask. Canada</td>\n",
              "      <td>1</td>\n",
              "    </tr>\n",
              "    <tr>\n",
              "      <th>2</th>\n",
              "      <td>5</td>\n",
              "      <td>NaN</td>\n",
              "      <td>NaN</td>\n",
              "      <td>All residents asked to 'shelter in place' are ...</td>\n",
              "      <td>1</td>\n",
              "    </tr>\n",
              "    <tr>\n",
              "      <th>3</th>\n",
              "      <td>6</td>\n",
              "      <td>NaN</td>\n",
              "      <td>NaN</td>\n",
              "      <td>13,000 people receive #wildfires evacuation or...</td>\n",
              "      <td>1</td>\n",
              "    </tr>\n",
              "    <tr>\n",
              "      <th>4</th>\n",
              "      <td>7</td>\n",
              "      <td>NaN</td>\n",
              "      <td>NaN</td>\n",
              "      <td>Just got sent this photo from Ruby #Alaska as ...</td>\n",
              "      <td>1</td>\n",
              "    </tr>\n",
              "  </tbody>\n",
              "</table>\n",
              "</div>\n",
              "      <button class=\"colab-df-convert\" onclick=\"convertToInteractive('df-e7362b71-5e52-4ec5-b20b-efc02117f276')\"\n",
              "              title=\"Convert this dataframe to an interactive table.\"\n",
              "              style=\"display:none;\">\n",
              "        \n",
              "  <svg xmlns=\"http://www.w3.org/2000/svg\" height=\"24px\"viewBox=\"0 0 24 24\"\n",
              "       width=\"24px\">\n",
              "    <path d=\"M0 0h24v24H0V0z\" fill=\"none\"/>\n",
              "    <path d=\"M18.56 5.44l.94 2.06.94-2.06 2.06-.94-2.06-.94-.94-2.06-.94 2.06-2.06.94zm-11 1L8.5 8.5l.94-2.06 2.06-.94-2.06-.94L8.5 2.5l-.94 2.06-2.06.94zm10 10l.94 2.06.94-2.06 2.06-.94-2.06-.94-.94-2.06-.94 2.06-2.06.94z\"/><path d=\"M17.41 7.96l-1.37-1.37c-.4-.4-.92-.59-1.43-.59-.52 0-1.04.2-1.43.59L10.3 9.45l-7.72 7.72c-.78.78-.78 2.05 0 2.83L4 21.41c.39.39.9.59 1.41.59.51 0 1.02-.2 1.41-.59l7.78-7.78 2.81-2.81c.8-.78.8-2.07 0-2.86zM5.41 20L4 18.59l7.72-7.72 1.47 1.35L5.41 20z\"/>\n",
              "  </svg>\n",
              "      </button>\n",
              "      \n",
              "  <style>\n",
              "    .colab-df-container {\n",
              "      display:flex;\n",
              "      flex-wrap:wrap;\n",
              "      gap: 12px;\n",
              "    }\n",
              "\n",
              "    .colab-df-convert {\n",
              "      background-color: #E8F0FE;\n",
              "      border: none;\n",
              "      border-radius: 50%;\n",
              "      cursor: pointer;\n",
              "      display: none;\n",
              "      fill: #1967D2;\n",
              "      height: 32px;\n",
              "      padding: 0 0 0 0;\n",
              "      width: 32px;\n",
              "    }\n",
              "\n",
              "    .colab-df-convert:hover {\n",
              "      background-color: #E2EBFA;\n",
              "      box-shadow: 0px 1px 2px rgba(60, 64, 67, 0.3), 0px 1px 3px 1px rgba(60, 64, 67, 0.15);\n",
              "      fill: #174EA6;\n",
              "    }\n",
              "\n",
              "    [theme=dark] .colab-df-convert {\n",
              "      background-color: #3B4455;\n",
              "      fill: #D2E3FC;\n",
              "    }\n",
              "\n",
              "    [theme=dark] .colab-df-convert:hover {\n",
              "      background-color: #434B5C;\n",
              "      box-shadow: 0px 1px 3px 1px rgba(0, 0, 0, 0.15);\n",
              "      filter: drop-shadow(0px 1px 2px rgba(0, 0, 0, 0.3));\n",
              "      fill: #FFFFFF;\n",
              "    }\n",
              "  </style>\n",
              "\n",
              "      <script>\n",
              "        const buttonEl =\n",
              "          document.querySelector('#df-e7362b71-5e52-4ec5-b20b-efc02117f276 button.colab-df-convert');\n",
              "        buttonEl.style.display =\n",
              "          google.colab.kernel.accessAllowed ? 'block' : 'none';\n",
              "\n",
              "        async function convertToInteractive(key) {\n",
              "          const element = document.querySelector('#df-e7362b71-5e52-4ec5-b20b-efc02117f276');\n",
              "          const dataTable =\n",
              "            await google.colab.kernel.invokeFunction('convertToInteractive',\n",
              "                                                     [key], {});\n",
              "          if (!dataTable) return;\n",
              "\n",
              "          const docLinkHtml = 'Like what you see? Visit the ' +\n",
              "            '<a target=\"_blank\" href=https://colab.research.google.com/notebooks/data_table.ipynb>data table notebook</a>'\n",
              "            + ' to learn more about interactive tables.';\n",
              "          element.innerHTML = '';\n",
              "          dataTable['output_type'] = 'display_data';\n",
              "          await google.colab.output.renderOutput(dataTable, element);\n",
              "          const docLink = document.createElement('div');\n",
              "          docLink.innerHTML = docLinkHtml;\n",
              "          element.appendChild(docLink);\n",
              "        }\n",
              "      </script>\n",
              "    </div>\n",
              "  </div>\n",
              "  "
            ]
          },
          "metadata": {},
          "execution_count": 4
        }
      ]
    },
    {
      "cell_type": "code",
      "source": [
        "# Plotting target value counts\n",
        "plt.figure(figsize=(10,8))\n",
        "ax = raw_data['target'].value_counts().sort_values().plot(kind=\"bar\")\n",
        "ax.grid(axis=\"y\")\n",
        "plt.suptitle(\"Target Value Counts\", fontsize=20)\n",
        "plt.show()"
      ],
      "metadata": {
        "colab": {
          "base_uri": "https://localhost:8080/",
          "height": 537
        },
        "id": "A4PS2EnhS_Wt",
        "outputId": "b053189a-7e9b-4e69-8fe7-8de54b3aee79"
      },
      "execution_count": 5,
      "outputs": [
        {
          "output_type": "display_data",
          "data": {
            "text/plain": [
              "<Figure size 720x576 with 1 Axes>"
            ],
            "image/png": "[encoded data removed]"
          },
          "metadata": {
            "needs_background": "light"
          }
        }
      ]
    },
    {
      "cell_type": "code",
      "source": [
        "print(\"Number of missing data for column keyword: \", raw_data['keyword'].isna().sum())\n",
        "print(\"Number of missing data for column location: \", raw_data['location'].isna().sum())\n",
        "print(\"Number of missing data for column text: \", raw_data['text'].isna().sum())\n",
        "print(\"Number of missing data for column target: \", raw_data['target'].isna().sum())"
      ],
      "metadata": {
        "colab": {
          "base_uri": "https://localhost:8080/",
          "height": 0
        },
        "id": "dDQG0tdSTBdJ",
        "outputId": "38a9cbb5-d2b7-47ec-86fc-5dc3a0c7d689"
      },
      "execution_count": 6,
      "outputs": [
        {
          "output_type": "stream",
          "name": "stdout",
          "text": [
            "Number of missing data for column keyword:  61\n",
            "Number of missing data for column location:  2533\n",
            "Number of missing data for column text:  0\n",
            "Number of missing data for column target:  0\n"
          ]
        }
      ]
    },
    {
      "cell_type": "code",
      "source": [
        "plt.figure(figsize=(15,8))\n",
        "sns.heatmap(raw_data.drop('id', axis=1).isnull(), cbar=False, cmap=\"GnBu\").set_title(\"Missing data for each column\")\n",
        "plt.show()"
      ],
      "metadata": {
        "colab": {
          "base_uri": "https://localhost:8080/",
          "height": 486
        },
        "id": "DnUrl5DFTKWf",
        "outputId": "39118d3c-d13f-4c17-a9ab-670a51dfb551"
      },
      "execution_count": 7,
      "outputs": [
        {
          "output_type": "display_data",
          "data": {
            "text/plain": [
              "<Figure size 1080x576 with 1 Axes>"
            ],
            "image/png": "[encoded data removed]"
          },
          "metadata": {
            "needs_background": "light"
          }
        }
      ]
    },
    {
      "cell_type": "code",
      "source": [
        "plt.figure(figsize=(15,8))\n",
        "raw_data['word_count'] = raw_data['text'].apply(lambda x: len(x.split(\" \")) )\n",
        "sns.distplot(raw_data['word_count'].values, hist=True, kde=True, kde_kws={\"shade\": True})\n",
        "plt.axvline(raw_data['word_count'].describe()['25%'], ls=\"--\")\n",
        "plt.axvline(raw_data['word_count'].describe()['50%'], ls=\"--\")\n",
        "plt.axvline(raw_data['word_count'].describe()['75%'], ls=\"--\")\n",
        "\n",
        "plt.grid()\n",
        "plt.suptitle(\"Word count histogram\")\n",
        "plt.show()\n",
        "\n",
        "# remove rows with under 3 words\n",
        "raw_data = raw_data[raw_data['word_count']>2]\n",
        "raw_data = raw_data.reset_index()"
      ],
      "metadata": {
        "colab": {
          "base_uri": "https://localhost:8080/",
          "height": 814
        },
        "id": "wVPIjVSYTOOA",
        "outputId": "bdced8f1-13ed-421f-f846-bd36581c93a6"
      },
      "execution_count": 8,
      "outputs": [
        {
          "output_type": "stream",
          "name": "stderr",
          "text": [
            "<ipython-input-8-169de689176d>:3: UserWarning: \n",
            "\n",
            "`distplot` is a deprecated function and will be removed in seaborn v0.14.0.\n",
            "\n",
            "Please adapt your code to use either `displot` (a figure-level function with\n",
            "similar flexibility) or `histplot` (an axes-level function for histograms).\n",
            "\n",
            "For a guide to updating your code to use the new functions, please see\n",
            "https://gist.github.com/mwaskom/de44147ed2974457ad6372750bbe5751\n",
            "\n",
            "  sns.distplot(raw_data['word_count'].values, hist=True, kde=True, kde_kws={\"shade\": True})\n",
            "/usr/local/lib/python3.9/dist-packages/seaborn/distributions.py:2511: FutureWarning: \n",
            "\n",
            "`shade` is now deprecated in favor of `fill`; setting `fill=True`.\n",
            "This will become an error in seaborn v0.14.0; please update your code.\n",
            "\n",
            "  kdeplot(**{axis: a}, ax=ax, color=kde_color, **kde_kws)\n"
          ]
        },
        {
          "output_type": "display_data",
          "data": {
            "text/plain": [
              "<Figure size 1080x576 with 1 Axes>"
            ],
            "image/png": "[encoded data removed]"
          },
          "metadata": {
            "needs_background": "light"
          }
        }
      ]
    },
    {
      "cell_type": "code",
      "source": [
        "print(\"25th percentile: \", raw_data['word_count'].describe()['25%'])\n",
        "print(\"mean: \", raw_data['word_count'].describe()['50%'])\n",
        "print(\"75th percentile: \", raw_data['word_count'].describe()['75%'])"
      ],
      "metadata": {
        "colab": {
          "base_uri": "https://localhost:8080/",
          "height": 0
        },
        "id": "wb3vcWOkTRpt",
        "outputId": "94c6b1a7-9692-4235-cd4a-e6e0c79a4d4e"
      },
      "execution_count": 9,
      "outputs": [
        {
          "output_type": "stream",
          "name": "stdout",
          "text": [
            "25th percentile:  11.0\n",
            "mean:  15.0\n",
            "75th percentile:  19.0\n"
          ]
        }
      ]
    },
    {
      "cell_type": "code",
      "source": [
        "import nltk\n",
        "nltk.download('punkt')\n",
        "# Clean text columns\n",
        "stop_words = set(stopwords.words('english'))\n",
        "stemmer = SnowballStemmer('english')\n",
        "\n",
        "\n",
        "def clean_text(each_text):\n",
        "\n",
        "    # remove URL from text\n",
        "    each_text_no_url = re.sub(r\"http\\S+\", \"\", each_text)\n",
        "    \n",
        "    # remove numbers from text\n",
        "    text_no_num = re.sub(r'\\d+', '', each_text_no_url)\n",
        "\n",
        "    # tokenize each text\n",
        "    word_tokens = word_tokenize(text_no_num)\n",
        "    \n",
        "    # remove sptial character\n",
        "    clean_text = []\n",
        "    for word in word_tokens:\n",
        "        clean_text.append(\"\".join([e for e in word if e.isalnum()]))\n",
        "\n",
        "    # remove stop words and lower\n",
        "    text_with_no_stop_word = [w.lower() for w in clean_text if not w in stop_words]  \n",
        "\n",
        "    # do stemming\n",
        "    stemmed_text = [stemmer.stem(w) for w in text_with_no_stop_word]\n",
        "    \n",
        "    return \" \".join(\" \".join(stemmed_text).split())\n",
        "\n",
        "\n",
        "raw_data['clean_text'] = raw_data['text'].apply(lambda x: clean_text(x) )\n",
        "raw_data['keyword'] = raw_data['keyword'].fillna(\"none\")\n",
        "raw_data['clean_keyword'] = raw_data['keyword'].apply(lambda x: clean_text(x) )\n",
        "# Combine column 'clean_keyword' and 'clean_text' into one\n",
        "raw_data['keyword_text'] = raw_data['clean_keyword'] + \" \" + raw_data[\"clean_text\"]\n"
      ],
      "metadata": {
        "colab": {
          "base_uri": "https://localhost:8080/",
          "height": 0
        },
        "id": "F-dINKQyTXRi",
        "outputId": "c4ca3d25-a3b6-4f91-c094-640caa229e52"
      },
      "execution_count": 10,
      "outputs": [
        {
          "output_type": "stream",
          "name": "stderr",
          "text": [
            "[nltk_data] Downloading package punkt to /root/nltk_data...\n",
            "[nltk_data]   Unzipping tokenizers/punkt.zip.\n"
          ]
        }
      ]
    },
    {
      "cell_type": "code",
      "source": [
        "feature = 'keyword_text'\n",
        "label = \"target\"\n",
        "\n",
        "# split train and test\n",
        "X_train, X_test,y_train, y_test = model_selection.train_test_split(raw_data[feature],\n",
        "                                                                   raw_data[label],\n",
        "                                                                   test_size=0.3,\n",
        "                                                                   random_state=0, \n",
        "                                                                   shuffle=True)\n",
        "\n"
      ],
      "metadata": {
        "id": "u-R7RJo9Tjgb"
      },
      "execution_count": 11,
      "outputs": []
    },
    {
      "cell_type": "markdown",
      "source": [
        "Gradient Boosting Classifier"
      ],
      "metadata": {
        "id": "6C4kyKzxVYFj"
      }
    },
    {
      "cell_type": "code",
      "source": [
        "from sklearn.ensemble import GradientBoostingClassifier\n",
        "from sklearn.feature_extraction.text import CountVectorizer\n",
        "from sklearn import metrics\n",
        "\n",
        "X_train_GBC = X_train.values.reshape(-1)\n",
        "x_test_GBC = X_test.values.reshape(-1)\n",
        "\n",
        "# Vectorize text\n",
        "vectorizer = CountVectorizer()\n",
        "X_train_GBC = vectorizer.fit_transform(X_train_GBC)\n",
        "x_test_GBC = vectorizer.transform(x_test_GBC)\n",
        "\n",
        "# Train the model\n",
        "model = GradientBoostingClassifier(learning_rate=0.1,                                            \n",
        "                                   n_estimators=2000,\n",
        "                                   max_depth=9,\n",
        "                                   min_samples_split=6,\n",
        "                                   min_samples_leaf=2,\n",
        "                                   max_features=8,\n",
        "                                   subsample=0.9)\n",
        "model.fit(X_train_GBC, y_train)\n",
        "\n",
        "# Evaluate the model\n",
        "predicted_prob = model.predict_proba(x_test_GBC)[:,1]\n",
        "predicted = model.predict(x_test_GBC)\n",
        "\n",
        "accuracy = metrics.accuracy_score(predicted, y_test)\n",
        "print(\"Test accuracy: \", accuracy)\n",
        "print(metrics.classification_report(y_test, predicted, target_names=[\"0\", \"1\"]))\n",
        "print(\"Test F-scoare: \", metrics.f1_score(y_test, predicted))\n"
      ],
      "metadata": {
        "colab": {
          "base_uri": "https://localhost:8080/",
          "height": 0
        },
        "id": "cy8gWwLxVd4L",
        "outputId": "2b04e5e0-540c-4a3e-cff6-5aeebf4f50ec"
      },
      "execution_count": 15,
      "outputs": [
        {
          "output_type": "stream",
          "name": "stdout",
          "text": [
            "Test accuracy:  0.7859030837004405\n",
            "              precision    recall  f1-score   support\n",
            "\n",
            "           0       0.78      0.87      0.82      1309\n",
            "           1       0.79      0.67      0.73       961\n",
            "\n",
            "    accuracy                           0.79      2270\n",
            "   macro avg       0.79      0.77      0.78      2270\n",
            "weighted avg       0.79      0.79      0.78      2270\n",
            "\n",
            "Test F-scoare:  0.7269662921348314\n"
          ]
        }
      ]
    },
    {
      "cell_type": "code",
      "source": [
        "# Plot confusion matrix\n",
        "conf_matrix = metrics.confusion_matrix(y_test, predicted)\n",
        "\n",
        "fig, ax = plt.subplots()\n",
        "sns.heatmap(conf_matrix, cbar=False, cmap='Reds', annot=True, fmt='d')\n",
        "ax.set(xlabel=\"Predicted Value\", ylabel=\"True Value\", title=\"Confusion Matrix\")\n",
        "ax.set_yticklabels(labels=['0', '1'], rotation=0)\n",
        "\n",
        "plt.show()"
      ],
      "metadata": {
        "id": "R5Fc3CVnTpSX",
        "colab": {
          "base_uri": "https://localhost:8080/",
          "height": 295
        },
        "outputId": "60eb3f05-b072-4d8a-ff8b-5199a5f9c6ce"
      },
      "execution_count": 16,
      "outputs": [
        {
          "output_type": "display_data",
          "data": {
            "text/plain": [
              "<Figure size 432x288 with 1 Axes>"
            ],
            "image/png": "[encoded data removed]"
          },
          "metadata": {
            "needs_background": "light"
          }
        }
      ]
    },
    {
      "cell_type": "code",
      "source": [
        "path_to_glove_file = './glove.6B.300d.txt' # download link: http://nlp.stanford.edu/data/glove.6B.zip\n",
        "embedding_dim = 300\n",
        "learning_rate = 1e-3\n",
        "batch_size = 1024\n",
        "epochs = 20\n",
        "sequence_len = 100"
      ],
      "metadata": {
        "id": "WnsmXYjkTsy-"
      },
      "execution_count": 17,
      "outputs": []
    },
    {
      "cell_type": "code",
      "source": [
        "# Define train and test labels\n",
        "y_train_LSTM = y_train.values.reshape(-1,1)\n",
        "y_test_LSTM = y_test.values.reshape(-1,1)\n",
        "\n",
        "print(\"Training Y shape:\", y_train_LSTM.shape)\n",
        "print(\"Testing Y shape:\", y_test_LSTM.shape)"
      ],
      "metadata": {
        "colab": {
          "base_uri": "https://localhost:8080/",
          "height": 0
        },
        "id": "hKnyNHVJTtiu",
        "outputId": "de71c0f8-e051-4c09-f53b-7e21606f8b4a"
      },
      "execution_count": 18,
      "outputs": [
        {
          "output_type": "stream",
          "name": "stdout",
          "text": [
            "Training Y shape: (5294, 1)\n",
            "Testing Y shape: (2270, 1)\n"
          ]
        }
      ]
    },
    {
      "cell_type": "code",
      "source": [
        "# Tokenize train data\n",
        "tokenizer = Tokenizer()\n",
        "tokenizer.fit_on_texts(X_train)\n",
        "\n",
        "word_index = tokenizer.word_index\n",
        "vocab_size = len(word_index) + 1\n",
        "print(\"Vocabulary Size: \", vocab_size)"
      ],
      "metadata": {
        "colab": {
          "base_uri": "https://localhost:8080/",
          "height": 0
        },
        "id": "fFCjTV6hTvl2",
        "outputId": "b8da42fe-be6a-4d7c-c389-5edeb6be9a2c"
      },
      "execution_count": 19,
      "outputs": [
        {
          "output_type": "stream",
          "name": "stdout",
          "text": [
            "Vocabulary Size:  11148\n"
          ]
        }
      ]
    },
    {
      "cell_type": "code",
      "source": [
        "# Pad train and test \n",
        "X_train = pad_sequences(tokenizer.texts_to_sequences(X_train), maxlen=sequence_len)\n",
        "X_test = pad_sequences(tokenizer.texts_to_sequences(X_test), maxlen=sequence_len)\n",
        "\n",
        "print(\"Training X shape: \", X_train.shape)\n",
        "print(\"Testing X shape: \", X_test.shape)"
      ],
      "metadata": {
        "colab": {
          "base_uri": "https://localhost:8080/",
          "height": 0
        },
        "id": "81hp6nCdTxnV",
        "outputId": "d40fbef9-2d9a-42b4-d895-1b582c838de9"
      },
      "execution_count": 20,
      "outputs": [
        {
          "output_type": "stream",
          "name": "stdout",
          "text": [
            "Training X shape:  (5294, 100)\n",
            "Testing X shape:  (2270, 100)\n"
          ]
        }
      ]
    },
    {
      "cell_type": "code",
      "source": [
        "# Read word embeddings\n",
        "!wget http://nlp.stanford.edu/data/glove.6B.zip\n",
        "!unzip glove.6B.zip -d glove.6B\n",
        "path_to_glove_file = './glove.6B/glove.6B.300d.txt'\n",
        "\n",
        "embeddings_index = {}\n",
        "with open(path_to_glove_file) as f:\n",
        "    for line in f:\n",
        "        word, coefs = line.split(maxsplit=1)\n",
        "        coefs = np.fromstring(coefs, \"f\", sep=\" \")\n",
        "        embeddings_index[word] = coefs\n",
        "\n",
        "print(\"Found %s word vectors.\" % len(embeddings_index))"
      ],
      "metadata": {
        "colab": {
          "base_uri": "https://localhost:8080/",
          "height": 0
        },
        "id": "IX2tZW4rT1S4",
        "outputId": "b5532f5c-9e25-49ed-dc60-2e650033cb2d"
      },
      "execution_count": 22,
      "outputs": [
        {
          "output_type": "stream",
          "name": "stdout",
          "text": [
            "--2023-03-25 15:30:24--  http://nlp.stanford.edu/data/glove.6B.zip\n",
            "Resolving nlp.stanford.edu (nlp.stanford.edu)... 171.64.67.140\n",
            "Connecting to nlp.stanford.edu (nlp.stanford.edu)|171.64.67.140|:80... connected.\n",
            "HTTP request sent, awaiting response... 302 Found\n",
            "Location: https://nlp.stanford.edu/data/glove.6B.zip [following]\n",
            "--2023-03-25 15:30:24--  https://nlp.stanford.edu/data/glove.6B.zip\n",
            "Connecting to nlp.stanford.edu (nlp.stanford.edu)|171.64.67.140|:443... connected.\n",
            "HTTP request sent, awaiting response... 301 Moved Permanently\n",
            "Location: https://downloads.cs.stanford.edu/nlp/data/glove.6B.zip [following]\n",
            "--2023-03-25 15:30:25--  https://downloads.cs.stanford.edu/nlp/data/glove.6B.zip\n",
            "Resolving downloads.cs.stanford.edu (downloads.cs.stanford.edu)... 171.64.64.22\n",
            "Connecting to downloads.cs.stanford.edu (downloads.cs.stanford.edu)|171.64.64.22|:443... connected.\n",
            "HTTP request sent, awaiting response... 200 OK\n",
            "Length: 862182613 (822M) [application/zip]\n",
            "Saving to: ‘glove.6B.zip’\n",
            "\n",
            "glove.6B.zip        100%[===================>] 822.24M  5.02MB/s    in 2m 39s  \n",
            "\n",
            "2023-03-25 15:33:04 (5.18 MB/s) - ‘glove.6B.zip’ saved [862182613/862182613]\n",
            "\n",
            "Archive:  glove.6B.zip\n",
            "  inflating: glove.6B/glove.6B.50d.txt  \n",
            "  inflating: glove.6B/glove.6B.100d.txt  \n",
            "  inflating: glove.6B/glove.6B.200d.txt  \n",
            "  inflating: glove.6B/glove.6B.300d.txt  \n",
            "Found 400000 word vectors.\n"
          ]
        }
      ]
    },
    {
      "cell_type": "code",
      "source": [
        "# Define embedding layer in Keras\n",
        "embedding_matrix = np.zeros((vocab_size, embedding_dim))\n",
        "for word, i in word_index.items():\n",
        "    embedding_vector = embeddings_index.get(word)\n",
        "    if embedding_vector is not None:\n",
        "        embedding_matrix[i] = embedding_vector\n",
        "        \n",
        "embedding_layer = tf.keras.layers.Embedding(vocab_size,\n",
        "                                            embedding_dim,\n",
        "                                            weights=[embedding_matrix],\n",
        "                                            input_length=sequence_len,\n",
        "                                            trainable=False)"
      ],
      "metadata": {
        "id": "eKOY9R3KT4Ss"
      },
      "execution_count": 23,
      "outputs": []
    },
    {
      "cell_type": "code",
      "source": [
        "# Define model architecture\n",
        "sequence_input = Input(shape=(sequence_len, ), dtype='int32')\n",
        "embedding_sequences = embedding_layer(sequence_input)\n",
        "\n",
        "x = Conv1D(128, 5, activation='relu')(embedding_sequences)\n",
        "x = Bidirectional(LSTM(128, dropout=0.5, recurrent_dropout=0.2))(x)\n",
        "x = Dense(512, activation='relu')(x)\n",
        "x = Dropout(0.5)(x)\n",
        "x = Dense(512, activation='relu')(x)\n",
        "outputs = Dense(1, activation='sigmoid')(x)\n",
        "model = Model(sequence_input, outputs)\n",
        "model.summary()"
      ],
      "metadata": {
        "colab": {
          "base_uri": "https://localhost:8080/",
          "height": 0
        },
        "id": "TSMF-y7BT7AF",
        "outputId": "4acfe9e6-bda4-42da-b134-8f9ebcb4a468"
      },
      "execution_count": 24,
      "outputs": [
        {
          "output_type": "stream",
          "name": "stdout",
          "text": [
            "Model: \"model\"\n",
            "_________________________________________________________________\n",
            " Layer (type)                Output Shape              Param #   \n",
            "=================================================================\n",
            " input_1 (InputLayer)        [(None, 100)]             0         \n",
            "                                                                 \n",
            " embedding (Embedding)       (None, 100, 300)          3344400   \n",
            "                                                                 \n",
            " conv1d (Conv1D)             (None, 96, 128)           192128    \n",
            "                                                                 \n",
            " bidirectional (Bidirectiona  (None, 256)              263168    \n",
            " l)                                                              \n",
            "                                                                 \n",
            " dense (Dense)               (None, 512)               131584    \n",
            "                                                                 \n",
            " dropout (Dropout)           (None, 512)               0         \n",
            "                                                                 \n",
            " dense_1 (Dense)             (None, 512)               262656    \n",
            "                                                                 \n",
            " dense_2 (Dense)             (None, 1)                 513       \n",
            "                                                                 \n",
            "=================================================================\n",
            "Total params: 4,194,449\n",
            "Trainable params: 850,049\n",
            "Non-trainable params: 3,344,400\n",
            "_________________________________________________________________\n"
          ]
        }
      ]
    },
    {
      "cell_type": "code",
      "source": [
        "# Optimize the model\n",
        "model.compile(optimizer=Adam(learning_rate=learning_rate), loss='binary_crossentropy', metrics=['accuracy'])"
      ],
      "metadata": {
        "id": "x5zxwFlMT_RG"
      },
      "execution_count": 25,
      "outputs": []
    },
    {
      "cell_type": "code",
      "source": [
        "# Train the LSTM Model\n",
        "history = model.fit(X_train,\n",
        "                    y_train,\n",
        "                    batch_size=batch_size,\n",
        "                    epochs=epochs, \n",
        "                    validation_data=(X_test, y_test))"
      ],
      "metadata": {
        "colab": {
          "base_uri": "https://localhost:8080/",
          "height": 0
        },
        "id": "RCvvAdxAUFj5",
        "outputId": "e9f538f0-37ea-47bf-a230-65e531d81a67"
      },
      "execution_count": 26,
      "outputs": [
        {
          "output_type": "stream",
          "name": "stdout",
          "text": [
            "Epoch 1/20\n",
            "6/6 [==============================] - 59s 8s/step - loss: 0.6733 - accuracy: 0.5518 - val_loss: 0.5905 - val_accuracy: 0.7476\n",
            "Epoch 2/20\n",
            "6/6 [==============================] - 47s 8s/step - loss: 0.5638 - accuracy: 0.7369 - val_loss: 0.5343 - val_accuracy: 0.7564\n",
            "Epoch 3/20\n",
            "6/6 [==============================] - 47s 8s/step - loss: 0.5015 - accuracy: 0.7656 - val_loss: 0.4965 - val_accuracy: 0.7718\n",
            "Epoch 4/20\n",
            "6/6 [==============================] - 48s 8s/step - loss: 0.4772 - accuracy: 0.7777 - val_loss: 0.4888 - val_accuracy: 0.7744\n",
            "Epoch 5/20\n",
            "6/6 [==============================] - 49s 8s/step - loss: 0.4534 - accuracy: 0.7960 - val_loss: 0.4732 - val_accuracy: 0.7793\n",
            "Epoch 6/20\n",
            "6/6 [==============================] - 46s 8s/step - loss: 0.4275 - accuracy: 0.8138 - val_loss: 0.4830 - val_accuracy: 0.7863\n",
            "Epoch 7/20\n",
            "6/6 [==============================] - 47s 8s/step - loss: 0.4032 - accuracy: 0.8241 - val_loss: 0.4743 - val_accuracy: 0.7828\n",
            "Epoch 8/20\n",
            "6/6 [==============================] - 48s 8s/step - loss: 0.3717 - accuracy: 0.8423 - val_loss: 0.4908 - val_accuracy: 0.7881\n",
            "Epoch 9/20\n",
            "6/6 [==============================] - 47s 8s/step - loss: 0.3534 - accuracy: 0.8529 - val_loss: 0.4871 - val_accuracy: 0.7916\n",
            "Epoch 10/20\n",
            "6/6 [==============================] - 46s 8s/step - loss: 0.3147 - accuracy: 0.8693 - val_loss: 0.5045 - val_accuracy: 0.7960\n",
            "Epoch 11/20\n",
            "6/6 [==============================] - 47s 8s/step - loss: 0.2898 - accuracy: 0.8823 - val_loss: 0.5317 - val_accuracy: 0.7775\n",
            "Epoch 12/20\n",
            "6/6 [==============================] - 47s 8s/step - loss: 0.2545 - accuracy: 0.9014 - val_loss: 0.5723 - val_accuracy: 0.7692\n",
            "Epoch 13/20\n",
            "6/6 [==============================] - 48s 8s/step - loss: 0.2335 - accuracy: 0.9071 - val_loss: 0.5803 - val_accuracy: 0.7881\n",
            "Epoch 14/20\n",
            "6/6 [==============================] - 47s 8s/step - loss: 0.2033 - accuracy: 0.9212 - val_loss: 0.6125 - val_accuracy: 0.7907\n",
            "Epoch 15/20\n",
            "6/6 [==============================] - 47s 8s/step - loss: 0.1748 - accuracy: 0.9362 - val_loss: 0.6923 - val_accuracy: 0.7639\n",
            "Epoch 16/20\n",
            "6/6 [==============================] - 48s 8s/step - loss: 0.1702 - accuracy: 0.9343 - val_loss: 0.7114 - val_accuracy: 0.7617\n",
            "Epoch 17/20\n",
            "6/6 [==============================] - 47s 8s/step - loss: 0.1641 - accuracy: 0.9384 - val_loss: 0.6747 - val_accuracy: 0.7828\n",
            "Epoch 18/20\n",
            "6/6 [==============================] - 48s 8s/step - loss: 0.1559 - accuracy: 0.9439 - val_loss: 0.6870 - val_accuracy: 0.7767\n",
            "Epoch 19/20\n",
            "6/6 [==============================] - 53s 8s/step - loss: 0.1463 - accuracy: 0.9467 - val_loss: 0.6814 - val_accuracy: 0.7802\n",
            "Epoch 20/20\n",
            "6/6 [==============================] - 47s 8s/step - loss: 0.1299 - accuracy: 0.9524 - val_loss: 0.7846 - val_accuracy: 0.7581\n"
          ]
        }
      ]
    },
    {
      "cell_type": "code",
      "source": [
        "# Plot train accuracy and loss\n",
        "accuraties = history.history['accuracy']\n",
        "losses = history.history['loss']\n",
        "accuraties_losses = list(zip(accuraties,losses))\n",
        "\n",
        "accuraties_losses_df = pd.DataFrame(accuraties_losses, columns={\"accuraties\", \"losses\"})\n",
        "\n",
        "plt.figure(figsize=(10,4))\n",
        "plt.suptitle(\"Train Accuracy vs Train Loss\")\n",
        "sns.lineplot(data=accuraties_losses_df)\n",
        "plt.show()\n"
      ],
      "metadata": {
        "id": "MpQtbLmgUJCu",
        "colab": {
          "base_uri": "https://localhost:8080/",
          "height": 294
        },
        "outputId": "8acb2988-2da4-4032-93f5-68a63f42d7b3"
      },
      "execution_count": 28,
      "outputs": [
        {
          "output_type": "display_data",
          "data": {
            "text/plain": [
              "<Figure size 720x288 with 1 Axes>"
            ],
            "image/png": "[encoded data removed]"
          },
          "metadata": {
            "needs_background": "light"
          }
        }
      ]
    },
    {
      "cell_type": "code",
      "source": [
        "# Evaluate the model\n",
        "predicted = model.predict(X_test, verbose=1, batch_size=10000)\n",
        "\n",
        "y_predicted = [1 if each > 0.5 else 0 for each in predicted]\n",
        "\n",
        "score, test_accuracy = model.evaluate(X_test, y_test, batch_size=10000)\n",
        "\n",
        "print(\"Test Accuracy: \", test_accuracy)\n",
        "print(metrics.classification_report(list(y_test), y_predicted))"
      ],
      "metadata": {
        "id": "92wN2VYeULW0",
        "colab": {
          "base_uri": "https://localhost:8080/",
          "height": 0
        },
        "outputId": "a5f000a6-30f7-41c2-a161-a002fddb8e7a"
      },
      "execution_count": 29,
      "outputs": [
        {
          "output_type": "stream",
          "name": "stdout",
          "text": [
            "1/1 [==============================] - 5s 5s/step\n",
            "1/1 [==============================] - 5s 5s/step - loss: 0.7846 - accuracy: 0.7581\n",
            "Test Accuracy:  0.7581498026847839\n",
            "              precision    recall  f1-score   support\n",
            "\n",
            "           0       0.82      0.74      0.78      1309\n",
            "           1       0.69      0.78      0.73       961\n",
            "\n",
            "    accuracy                           0.76      2270\n",
            "   macro avg       0.76      0.76      0.76      2270\n",
            "weighted avg       0.77      0.76      0.76      2270\n",
            "\n"
          ]
        }
      ]
    },
    {
      "cell_type": "code",
      "source": [
        "# Plot confusion matrix\n",
        "conf_matrix = metrics.confusion_matrix(y_test, y_predicted)\n",
        "\n",
        "fig, ax = plt.subplots()\n",
        "sns.heatmap(conf_matrix, cbar=False, cmap='Reds', annot=True, fmt='d')\n",
        "ax.set(xlabel=\"Predicted Value\", ylabel=\"True Value\", title=\"Confusion Matrix\")\n",
        "ax.set_yticklabels(labels=['0', '1'], rotation=0)\n",
        "plt.show()\n"
      ],
      "metadata": {
        "id": "P-bSLT7nUN2g",
        "colab": {
          "base_uri": "https://localhost:8080/",
          "height": 295
        },
        "outputId": "98cbee9c-eae7-4b3b-a423-c1dd8b99eb90"
      },
      "execution_count": 30,
      "outputs": [
        {
          "output_type": "display_data",
          "data": {
            "text/plain": [
              "<Figure size 432x288 with 1 Axes>"
            ],
            "image/png": "[encoded data removed]"
          },
          "metadata": {
            "needs_background": "light"
          }
        }
      ]
    },
    {
      "cell_type": "code",
      "source": [],
      "metadata": {
        "id": "P5NY7soBd2m5"
      },
      "execution_count": null,
      "outputs": []
    }
  ]
}
